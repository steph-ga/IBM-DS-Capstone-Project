{
 "cells": [
  {
   "cell_type": "markdown",
   "metadata": {},
   "source": [
    "# Capstone project II - project description\n",
    "\n",
    "### Explore neighbourhoods in London "
   ]
  },
  {
   "cell_type": "markdown",
   "metadata": {},
   "source": [
    "### Introduction / Business Problem"
   ]
  },
  {
   "cell_type": "markdown",
   "metadata": {},
   "source": [
    "Business problem:\n",
    "\n",
    "There is a shortage of housing in London according to many real estate research reports. Given the recent government policies in encouraging more demand for the housing market. It is widely anticipated that housing shortage could be an increasingly severe problem in the capital. \n",
    "\n",
    "Given this background, an international real estate developer is looking to enter the UK real estate market. Their plan is to take advantage of the housing market demand and supply imbalancement and develop a residential building in London. The scope is extended out to the Greater London area instead of Central London only given concerns over affordability in Central London.\n",
    "\n",
    "However the developer is not familiar with various neighbourhoods outside Central London and therefore is seeking recommendation on where would be the recommended locations to start this project.\n",
    "\n",
    "This project is therefore commissioned by this overseas real estate developer who is looking to build an apartment block in the Greater London area. \n",
    "\n",
    "The target buyers of these apartments are families with working parents who are still keen to live in the city, but would like to be in locations with close proximity to schools for their young kids. Areas with more choices for different types of schools are typically preferred by parents (public vs. private). Also it would be preferrable if these areas offer school options for young as well as older kids (i.e. primary to high schools)."
   ]
  },
  {
   "cell_type": "markdown",
   "metadata": {},
   "source": [
    "### Data"
   ]
  },
  {
   "cell_type": "markdown",
   "metadata": {},
   "source": [
    "Three data sources in this project:\n",
    "\n",
    "- All postal areas in Greater London (name of the postal area and its postcodes). Data source: www.worldpostalcode.com\n",
    "\n",
    "- Geo-coordinates of postal areas in London (latitude and longitudes). Data source: Geopy\n",
    "\n",
    "- List of school venues in London and its type (e.g. venue category). Data source: Foursquare API"
   ]
  },
  {
   "cell_type": "markdown",
   "metadata": {},
   "source": [
    "### Methodology"
   ]
  },
  {
   "cell_type": "markdown",
   "metadata": {},
   "source": [
    "Description of data and how it will be used to solve the problem\n",
    "\n",
    "1. The analysis first identifies all postal areas in Greater London and its related postcodes by scrapping this data from the website www.worldpostalcode.com\n",
    "\n",
    "2. Once the initial dataframe is formed (with postal area name and postcodes), the analysis makes use Geopy to identify geolocations of these araes.\n",
    "\n",
    "3. The geolocations are needed in order to 'query school' data from the Foursquare API.\n",
    "\n",
    "4. Once the geolocations is fetched, it is used to:\n",
    "    - divide london areas into 30 clusters with K-means clustering model\n",
    "    - query list of school venues and its categories from Foursquare\n",
    "\n",
    "5. Based on clustered data and data from Foursquare, we are able to find neighbourhoods (i.e. clusters) in London that have the highest number of schools. They would be preferred locations for property buyers and therefore should be recommended as potential locations for property developments. \n",
    "\n",
    "6. We can further narrowing the list by proritising clusters with not only high number of schools but also equal choices of different types of schools. They can be preferred areas for families with more than one kid of different age groups or families considering medium to long term settlement as their kids grow older."
   ]
  },
  {
   "cell_type": "markdown",
   "metadata": {},
   "source": [
    "### Results and Discussion"
   ]
  },
  {
   "cell_type": "markdown",
   "metadata": {},
   "source": [
    "Please see the main report for results and discussion."
   ]
  }
 ],
 "metadata": {
  "kernelspec": {
   "display_name": "Python 3",
   "language": "python",
   "name": "python3"
  },
  "language_info": {
   "codemirror_mode": {
    "name": "ipython",
    "version": 3
   },
   "file_extension": ".py",
   "mimetype": "text/x-python",
   "name": "python",
   "nbconvert_exporter": "python",
   "pygments_lexer": "ipython3",
   "version": "3.7.6"
  }
 },
 "nbformat": 4,
 "nbformat_minor": 4
}
